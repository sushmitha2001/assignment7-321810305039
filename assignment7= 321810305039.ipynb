{
 "cells": [
  {
   "cell_type": "markdown",
   "metadata": {},
   "source": [
    "#1 Generate 1st n numbers of fibonacci numbers. Take n value from user"
   ]
  },
  {
   "cell_type": "code",
   "execution_count": 8,
   "metadata": {},
   "outputs": [
    {
     "name": "stdout",
     "output_type": "stream",
     "text": [
      "enter the number8\n",
      "13\n"
     ]
    }
   ],
   "source": [
    "n=int(input(\"enter the number\"))\n",
    "a=0\n",
    "b=0\n",
    "if n<0:\n",
    " print(\"incorrect input\")\n",
    "elif n==0:\n",
    " print(a)\n",
    "elif n==1:\n",
    " print(b)\n",
    "else:\n",
    "  for i in range(2,n):\n",
    "    b=(n-1)+(n-2)\n",
    "  print(b)\n",
    "    "
   ]
  },
  {
   "cell_type": "markdown",
   "metadata": {},
   "source": [
    "#2  Take 10 integers from keybord using loop and print the average value on the screen"
   ]
  },
  {
   "cell_type": "code",
   "execution_count": 15,
   "metadata": {},
   "outputs": [
    {
     "name": "stdout",
     "output_type": "stream",
     "text": [
      "input some integers to calculate there average\n",
      "2\n",
      "3\n",
      "4\n",
      "7\n",
      "5\n",
      "9\n",
      "6\n",
      "8\n",
      "3\n",
      "0\n",
      "average and sum of the above numbers are: 5.222222222222222 47\n"
     ]
    }
   ],
   "source": [
    "print(\"input some integers to calculate there average\")\n",
    "count=0\n",
    "sum=0\n",
    "n=1\n",
    "while n!=0:\n",
    " n=int(input(\"\"))\n",
    " sum=sum+n\n",
    " count+=1\n",
    "if count==0:\n",
    " print(\"input some integers\")\n",
    "else:\n",
    " print(\"average and sum of the above numbers are:\",sum/(count-1),sum)"
   ]
  },
  {
   "cell_type": "markdown",
   "metadata": {},
   "source": [
    "4 Program to find the length of the string \"refrigerator\" without using len() function"
   ]
  },
  {
   "cell_type": "code",
   "execution_count": 17,
   "metadata": {},
   "outputs": [
    {
     "name": "stdout",
     "output_type": "stream",
     "text": [
      "enter the string:refrigeratoe\n",
      "length of the string is: 12\n"
     ]
    }
   ],
   "source": [
    "str=input(\"enter the string:\")\n",
    "counter=0\n",
    "for s in str:\n",
    "    counter=counter+1\n",
    "print(\"length of the string is:\",counter)    "
   ]
  },
  {
   "cell_type": "markdown",
   "metadata": {},
   "source": [
    "5 Python prigram to coubt the number of characters in a string "
   ]
  },
  {
   "cell_type": "code",
   "execution_count": 18,
   "metadata": {},
   "outputs": [
    {
     "name": "stdout",
     "output_type": "stream",
     "text": [
      "9\n"
     ]
    }
   ],
   "source": [
    "str=\"sushmitha\"\n",
    "print(len(str))"
   ]
  },
  {
   "cell_type": "markdown",
   "metadata": {},
   "source": [
    "6 Python script that takes input from user and displays that input back in upper and lower cases"
   ]
  },
  {
   "cell_type": "code",
   "execution_count": 25,
   "metadata": {},
   "outputs": [
    {
     "name": "stdout",
     "output_type": "stream",
     "text": [
      "enter the string:sony\n",
      "string in upper case: SONY\n",
      "string in lower case: sony\n"
     ]
    }
   ],
   "source": [
    "str=input(\"enter the string:\")\n",
    "print(\"string in upper case:\",str.upper())\n",
    "print(\"string in lower case:\",str.lower())"
   ]
  },
  {
   "cell_type": "markdown",
   "metadata": {},
   "source": [
    "7 Python program to count occurrances of a substring in a string"
   ]
  },
  {
   "cell_type": "code",
   "execution_count": 27,
   "metadata": {},
   "outputs": [
    {
     "name": "stdout",
     "output_type": "stream",
     "text": [
      "\n",
      "1\n",
      "\n"
     ]
    }
   ],
   "source": [
    "str=\"i want to go for a walk now\"\n",
    "print()\n",
    "print(str.count(\"walk\"))\n",
    "print()"
   ]
  },
  {
   "cell_type": "code",
   "execution_count": null,
   "metadata": {},
   "outputs": [],
   "source": []
  }
 ],
 "metadata": {
  "kernelspec": {
   "display_name": "Python 3",
   "language": "python",
   "name": "python3"
  },
  "language_info": {
   "codemirror_mode": {
    "name": "ipython",
    "version": 3
   },
   "file_extension": ".py",
   "mimetype": "text/x-python",
   "name": "python",
   "nbconvert_exporter": "python",
   "pygments_lexer": "ipython3",
   "version": "3.7.6"
  }
 },
 "nbformat": 4,
 "nbformat_minor": 4
}
